{
 "cells": [
  {
   "cell_type": "code",
   "execution_count": 21,
   "metadata": {},
   "outputs": [],
   "source": [
    "import pandas as pd\n"
   ]
  },
  {
   "cell_type": "code",
   "execution_count": 22,
   "metadata": {},
   "outputs": [],
   "source": [
    "company = \"AAPL\"\n",
    "data = pd.read_csv(f'{company}_stock_data.csv')\n",
    "data = data[[\"Date\", \"Close\"]]\n",
    "\n",
    "data.columns = ['ds', 'y']"
   ]
  },
  {
   "cell_type": "code",
   "execution_count": 23,
   "metadata": {},
   "outputs": [
    {
     "name": "stderr",
     "output_type": "stream",
     "text": [
      "14:15:46 - cmdstanpy - INFO - Chain [1] start processing\n",
      "14:15:46 - cmdstanpy - INFO - Chain [1] done processing\n",
      "14:15:46 - cmdstanpy - ERROR - Chain [1] error: terminated by signal 6 Unknown error: -6\n",
      "Optimization terminated abnormally. Falling back to Newton.\n",
      "14:15:46 - cmdstanpy - INFO - Chain [1] start processing\n",
      "14:15:46 - cmdstanpy - INFO - Chain [1] done processing\n",
      "14:15:46 - cmdstanpy - ERROR - Chain [1] error: terminated by signal 6 Unknown error: -6\n"
     ]
    },
    {
     "ename": "RuntimeError",
     "evalue": "Error during optimization! Command '/Users/aidenfine/.pyenv/versions/3.8.13/lib/python3.8/site-packages/prophet/stan_model/prophet_model.bin random seed=62074 data file=/var/folders/md/rsgk0w8d0_l2f3jq22czqwtr0000gn/T/tmpbvknpnzb/hp_owsge.json init=/var/folders/md/rsgk0w8d0_l2f3jq22czqwtr0000gn/T/tmpbvknpnzb/7uiy7koq.json output file=/var/folders/md/rsgk0w8d0_l2f3jq22czqwtr0000gn/T/tmps3dte9ax/prophet_modelq4r8myiv/prophet_model-20230219141546.csv method=optimize algorithm=newton iter=10000' failed: console log output:\n\ndyld[95982]: Library not loaded: @rpath/libtbb.dylib\n  Referenced from: <25CE3F0D-F67C-37AA-AE0F-F52B53AE03B4> /Users/aidenfine/.pyenv/versions/3.8.13/lib/python3.8/site-packages/prophet/stan_model/prophet_model.bin\n  Reason: tried: '/private/var/folders/md/rsgk0w8d0_l2f3jq22czqwtr0000gn/T/pip-install-4f082vkr/prophet_1aacad5c411e4c38896265013ca67808/build/lib.macosx-12.3-arm64-cpython-38/prophet/stan_model/cmdstan-2.26.1/stan/lib/stan_math/lib/tbb/libtbb.dylib' (no such file), '/System/Volumes/Preboot/Cryptexes/OS/private/var/folders/md/rsgk0w8d0_l2f3jq22czqwtr0000gn/T/pip-install-4f082vkr/prophet_1aacad5c411e4c38896265013ca67808/build/lib.macosx-12.3-arm64-cpython-38/prophet/stan_model/cmdstan-2.26.1/stan/lib/stan_math/lib/tbb/libtbb.dylib' (no such file), '/private/var/folders/md/rsgk0w8d0_l2f3jq22czqwtr0000gn/T/pip-install-4f082vkr/prophet_1aacad5c411e4c38896265013ca67808/build/lib.macosx-12.3-arm64-cpython-38/prophet/stan_model/cmdstan-2.26.1/stan/lib/stan_math/lib/tbb/libtbb.dylib' (no such file), '/System/Volumes/Preboot/Cryptexes/OS/private/var/folders/md/rsgk0w8d0_l2f3jq22czqwtr0000gn/T/pip-install-4f082vkr/prophet_1aacad5c411e4c38896265013ca67808/build/lib.macosx-12.3-arm64-cpython-38/prophet/stan_model/cmdstan-2.26.1/stan/lib/stan_math/lib/tbb/libtbb.dylib' (no such file), '/System/Volumes/Preboot/Cryptexes/OS@rpath/libtbb.dylib' (no such file), '/private/var/folders/md/rsgk0w8d0_l2f3jq22czqwtr0000gn/T/pip-install-4f082vkr/prophet_1aacad5c411e4c38896265013ca67808/build/lib.macosx-12.3-arm64-cpython-38/prophet/stan_model/cmdstan-2.26.1/stan/lib/stan_math/lib/tbb/libtbb.dylib' (no such file), '/System/Volumes/Preboot/Cryptexes/OS/private/var/folders/md/rsgk0w8d0_l2f3jq22czqwtr0000gn/T/pip-install-4f082vkr/prophet_1aacad5c411e4c38896265013ca67808/build/lib.macosx-12.3-arm64-cpython-38/prophet/stan_model/cmdstan-2.26.1/stan/lib/stan_math/lib/tbb/libtbb.dylib' (no such file), '/private/var/folders/md/rsgk0w8d0_l2f3jq22czqwtr0000gn/T/pip-install-4f082vkr/prophet_1aacad5c411e4c38896265013ca67808/build/lib.macosx-12.3-arm64-cpython-38/prophet/stan_model/cmdstan-2.26.1/stan/lib/stan_math/lib/tbb/libtbb.dylib' (no such file), '/System/Volumes/Preboot/Cryptexes/OS/private/var/folders/md/rsgk0w8d0_l2f3jq22czqwtr0000gn/T/pip-install-4f082vkr/prophet_1aacad5c411e4c38896265013ca67808/build/lib.macosx-12.3-arm64-cpython-38/prophet/stan_model/cmdstan-2.26.1/stan/lib/stan_math/lib/tbb/libtbb.dylib' (no such file), '/usr/local/lib/libtbb.dylib' (no such file), '/usr/lib/libtbb.dylib' (no such file, not in dyld cache)\n",
     "output_type": "error",
     "traceback": [
      "\u001b[0;31m---------------------------------------------------------------------------\u001b[0m",
      "\u001b[0;31mRuntimeError\u001b[0m                              Traceback (most recent call last)",
      "File \u001b[0;32m~/.pyenv/versions/3.8.13/lib/python3.8/site-packages/prophet/models.py:96\u001b[0m, in \u001b[0;36mCmdStanPyBackend.fit\u001b[0;34m(self, stan_init, stan_data, **kwargs)\u001b[0m\n\u001b[1;32m     95\u001b[0m \u001b[39mtry\u001b[39;00m:\n\u001b[0;32m---> 96\u001b[0m     \u001b[39mself\u001b[39m\u001b[39m.\u001b[39mstan_fit \u001b[39m=\u001b[39m \u001b[39mself\u001b[39;49m\u001b[39m.\u001b[39;49mmodel\u001b[39m.\u001b[39;49moptimize(\u001b[39m*\u001b[39;49m\u001b[39m*\u001b[39;49margs)\n\u001b[1;32m     97\u001b[0m \u001b[39mexcept\u001b[39;00m \u001b[39mRuntimeError\u001b[39;00m \u001b[39mas\u001b[39;00m e:\n\u001b[1;32m     98\u001b[0m     \u001b[39m# Fall back on Newton\u001b[39;00m\n",
      "File \u001b[0;32m~/.pyenv/versions/3.8.13/lib/python3.8/site-packages/cmdstanpy/model.py:738\u001b[0m, in \u001b[0;36mCmdStanModel.optimize\u001b[0;34m(self, data, seed, inits, output_dir, sig_figs, save_profile, algorithm, init_alpha, tol_obj, tol_rel_obj, tol_grad, tol_rel_grad, tol_param, history_size, iter, save_iterations, require_converged, show_console, refresh, time_fmt, timeout)\u001b[0m\n\u001b[1;32m    737\u001b[0m     \u001b[39melse\u001b[39;00m:\n\u001b[0;32m--> 738\u001b[0m         \u001b[39mraise\u001b[39;00m \u001b[39mRuntimeError\u001b[39;00m(msg)\n\u001b[1;32m    739\u001b[0m mle \u001b[39m=\u001b[39m CmdStanMLE(runset)\n",
      "\u001b[0;31mRuntimeError\u001b[0m: Error during optimization! Command '/Users/aidenfine/.pyenv/versions/3.8.13/lib/python3.8/site-packages/prophet/stan_model/prophet_model.bin random seed=7790 data file=/var/folders/md/rsgk0w8d0_l2f3jq22czqwtr0000gn/T/tmpbvknpnzb/jkpa_gld.json init=/var/folders/md/rsgk0w8d0_l2f3jq22czqwtr0000gn/T/tmpbvknpnzb/rjuul1c3.json output file=/var/folders/md/rsgk0w8d0_l2f3jq22czqwtr0000gn/T/tmps3dte9ax/prophet_modelbomv3lju/prophet_model-20230219141546.csv method=optimize algorithm=lbfgs iter=10000' failed: console log output:\n\ndyld[95980]: Library not loaded: @rpath/libtbb.dylib\n  Referenced from: <25CE3F0D-F67C-37AA-AE0F-F52B53AE03B4> /Users/aidenfine/.pyenv/versions/3.8.13/lib/python3.8/site-packages/prophet/stan_model/prophet_model.bin\n  Reason: tried: '/private/var/folders/md/rsgk0w8d0_l2f3jq22czqwtr0000gn/T/pip-install-4f082vkr/prophet_1aacad5c411e4c38896265013ca67808/build/lib.macosx-12.3-arm64-cpython-38/prophet/stan_model/cmdstan-2.26.1/stan/lib/stan_math/lib/tbb/libtbb.dylib' (no such file), '/System/Volumes/Preboot/Cryptexes/OS/private/var/folders/md/rsgk0w8d0_l2f3jq22czqwtr0000gn/T/pip-install-4f082vkr/prophet_1aacad5c411e4c38896265013ca67808/build/lib.macosx-12.3-arm64-cpython-38/prophet/stan_model/cmdstan-2.26.1/stan/lib/stan_math/lib/tbb/libtbb.dylib' (no such file), '/private/var/folders/md/rsgk0w8d0_l2f3jq22czqwtr0000gn/T/pip-install-4f082vkr/prophet_1aacad5c411e4c38896265013ca67808/build/lib.macosx-12.3-arm64-cpython-38/prophet/stan_model/cmdstan-2.26.1/stan/lib/stan_math/lib/tbb/libtbb.dylib' (no such file), '/System/Volumes/Preboot/Cryptexes/OS/private/var/folders/md/rsgk0w8d0_l2f3jq22czqwtr0000gn/T/pip-install-4f082vkr/prophet_1aacad5c411e4c38896265013ca67808/build/lib.macosx-12.3-arm64-cpython-38/prophet/stan_model/cmdstan-2.26.1/stan/lib/stan_math/lib/tbb/libtbb.dylib' (no such file), '/System/Volumes/Preboot/Cryptexes/OS@rpath/libtbb.dylib' (no such file), '/private/var/folders/md/rsgk0w8d0_l2f3jq22czqwtr0000gn/T/pip-install-4f082vkr/prophet_1aacad5c411e4c38896265013ca67808/build/lib.macosx-12.3-arm64-cpython-38/prophet/stan_model/cmdstan-2.26.1/stan/lib/stan_math/lib/tbb/libtbb.dylib' (no such file), '/System/Volumes/Preboot/Cryptexes/OS/private/var/folders/md/rsgk0w8d0_l2f3jq22czqwtr0000gn/T/pip-install-4f082vkr/prophet_1aacad5c411e4c38896265013ca67808/build/lib.macosx-12.3-arm64-cpython-38/prophet/stan_model/cmdstan-2.26.1/stan/lib/stan_math/lib/tbb/libtbb.dylib' (no such file), '/private/var/folders/md/rsgk0w8d0_l2f3jq22czqwtr0000gn/T/pip-install-4f082vkr/prophet_1aacad5c411e4c38896265013ca67808/build/lib.macosx-12.3-arm64-cpython-38/prophet/stan_model/cmdstan-2.26.1/stan/lib/stan_math/lib/tbb/libtbb.dylib' (no such file), '/System/Volumes/Preboot/Cryptexes/OS/private/var/folders/md/rsgk0w8d0_l2f3jq22czqwtr0000gn/T/pip-install-4f082vkr/prophet_1aacad5c411e4c38896265013ca67808/build/lib.macosx-12.3-arm64-cpython-38/prophet/stan_model/cmdstan-2.26.1/stan/lib/stan_math/lib/tbb/libtbb.dylib' (no such file), '/usr/local/lib/libtbb.dylib' (no such file), '/usr/lib/libtbb.dylib' (no such file, not in dyld cache)\n",
      "\nDuring handling of the above exception, another exception occurred:\n",
      "\u001b[0;31mRuntimeError\u001b[0m                              Traceback (most recent call last)",
      "Cell \u001b[0;32mIn[23], line 5\u001b[0m\n\u001b[1;32m      2\u001b[0m \u001b[39mfrom\u001b[39;00m \u001b[39mprophet\u001b[39;00m\u001b[39m.\u001b[39;00m\u001b[39mplot\u001b[39;00m \u001b[39mimport\u001b[39;00m plot_plotly\n\u001b[1;32m      4\u001b[0m prophet \u001b[39m=\u001b[39m Prophet(daily_seasonality\u001b[39m=\u001b[39m\u001b[39mTrue\u001b[39;00m)\n\u001b[0;32m----> 5\u001b[0m prophet\u001b[39m.\u001b[39;49mfit(data)\n\u001b[1;32m      7\u001b[0m future_dates \u001b[39m=\u001b[39m prophet\u001b[39m.\u001b[39mmake_future_dataframe(periods\u001b[39m=\u001b[39m\u001b[39m365\u001b[39m)\n\u001b[1;32m      8\u001b[0m predictions \u001b[39m=\u001b[39m prophet\u001b[39m.\u001b[39mpredict(future_dates)\n",
      "File \u001b[0;32m~/.pyenv/versions/3.8.13/lib/python3.8/site-packages/prophet/forecaster.py:1181\u001b[0m, in \u001b[0;36mProphet.fit\u001b[0;34m(self, df, **kwargs)\u001b[0m\n\u001b[1;32m   1179\u001b[0m     \u001b[39mself\u001b[39m\u001b[39m.\u001b[39mparams \u001b[39m=\u001b[39m \u001b[39mself\u001b[39m\u001b[39m.\u001b[39mstan_backend\u001b[39m.\u001b[39msampling(stan_init, dat, \u001b[39mself\u001b[39m\u001b[39m.\u001b[39mmcmc_samples, \u001b[39m*\u001b[39m\u001b[39m*\u001b[39mkwargs)\n\u001b[1;32m   1180\u001b[0m \u001b[39melse\u001b[39;00m:\n\u001b[0;32m-> 1181\u001b[0m     \u001b[39mself\u001b[39m\u001b[39m.\u001b[39mparams \u001b[39m=\u001b[39m \u001b[39mself\u001b[39;49m\u001b[39m.\u001b[39;49mstan_backend\u001b[39m.\u001b[39;49mfit(stan_init, dat, \u001b[39m*\u001b[39;49m\u001b[39m*\u001b[39;49mkwargs)\n\u001b[1;32m   1183\u001b[0m \u001b[39mself\u001b[39m\u001b[39m.\u001b[39mstan_fit \u001b[39m=\u001b[39m \u001b[39mself\u001b[39m\u001b[39m.\u001b[39mstan_backend\u001b[39m.\u001b[39mstan_fit\n\u001b[1;32m   1184\u001b[0m \u001b[39m# If no changepoints were requested, replace delta with 0s\u001b[39;00m\n",
      "File \u001b[0;32m~/.pyenv/versions/3.8.13/lib/python3.8/site-packages/prophet/models.py:103\u001b[0m, in \u001b[0;36mCmdStanPyBackend.fit\u001b[0;34m(self, stan_init, stan_data, **kwargs)\u001b[0m\n\u001b[1;32m    101\u001b[0m     logger\u001b[39m.\u001b[39mwarning(\u001b[39m'\u001b[39m\u001b[39mOptimization terminated abnormally. Falling back to Newton.\u001b[39m\u001b[39m'\u001b[39m)\n\u001b[1;32m    102\u001b[0m     args[\u001b[39m'\u001b[39m\u001b[39malgorithm\u001b[39m\u001b[39m'\u001b[39m] \u001b[39m=\u001b[39m \u001b[39m'\u001b[39m\u001b[39mNewton\u001b[39m\u001b[39m'\u001b[39m\n\u001b[0;32m--> 103\u001b[0m     \u001b[39mself\u001b[39m\u001b[39m.\u001b[39mstan_fit \u001b[39m=\u001b[39m \u001b[39mself\u001b[39;49m\u001b[39m.\u001b[39;49mmodel\u001b[39m.\u001b[39;49moptimize(\u001b[39m*\u001b[39;49m\u001b[39m*\u001b[39;49margs)\n\u001b[1;32m    104\u001b[0m params \u001b[39m=\u001b[39m \u001b[39mself\u001b[39m\u001b[39m.\u001b[39mstan_to_dict_numpy(\n\u001b[1;32m    105\u001b[0m     \u001b[39mself\u001b[39m\u001b[39m.\u001b[39mstan_fit\u001b[39m.\u001b[39mcolumn_names, \u001b[39mself\u001b[39m\u001b[39m.\u001b[39mstan_fit\u001b[39m.\u001b[39moptimized_params_np)\n\u001b[1;32m    106\u001b[0m \u001b[39mfor\u001b[39;00m par \u001b[39min\u001b[39;00m params:\n",
      "File \u001b[0;32m~/.pyenv/versions/3.8.13/lib/python3.8/site-packages/cmdstanpy/model.py:738\u001b[0m, in \u001b[0;36mCmdStanModel.optimize\u001b[0;34m(self, data, seed, inits, output_dir, sig_figs, save_profile, algorithm, init_alpha, tol_obj, tol_rel_obj, tol_grad, tol_rel_grad, tol_param, history_size, iter, save_iterations, require_converged, show_console, refresh, time_fmt, timeout)\u001b[0m\n\u001b[1;32m    736\u001b[0m         get_logger()\u001b[39m.\u001b[39mwarning(msg)\n\u001b[1;32m    737\u001b[0m     \u001b[39melse\u001b[39;00m:\n\u001b[0;32m--> 738\u001b[0m         \u001b[39mraise\u001b[39;00m \u001b[39mRuntimeError\u001b[39;00m(msg)\n\u001b[1;32m    739\u001b[0m mle \u001b[39m=\u001b[39m CmdStanMLE(runset)\n\u001b[1;32m    740\u001b[0m \u001b[39mreturn\u001b[39;00m mle\n",
      "\u001b[0;31mRuntimeError\u001b[0m: Error during optimization! Command '/Users/aidenfine/.pyenv/versions/3.8.13/lib/python3.8/site-packages/prophet/stan_model/prophet_model.bin random seed=62074 data file=/var/folders/md/rsgk0w8d0_l2f3jq22czqwtr0000gn/T/tmpbvknpnzb/hp_owsge.json init=/var/folders/md/rsgk0w8d0_l2f3jq22czqwtr0000gn/T/tmpbvknpnzb/7uiy7koq.json output file=/var/folders/md/rsgk0w8d0_l2f3jq22czqwtr0000gn/T/tmps3dte9ax/prophet_modelq4r8myiv/prophet_model-20230219141546.csv method=optimize algorithm=newton iter=10000' failed: console log output:\n\ndyld[95982]: Library not loaded: @rpath/libtbb.dylib\n  Referenced from: <25CE3F0D-F67C-37AA-AE0F-F52B53AE03B4> /Users/aidenfine/.pyenv/versions/3.8.13/lib/python3.8/site-packages/prophet/stan_model/prophet_model.bin\n  Reason: tried: '/private/var/folders/md/rsgk0w8d0_l2f3jq22czqwtr0000gn/T/pip-install-4f082vkr/prophet_1aacad5c411e4c38896265013ca67808/build/lib.macosx-12.3-arm64-cpython-38/prophet/stan_model/cmdstan-2.26.1/stan/lib/stan_math/lib/tbb/libtbb.dylib' (no such file), '/System/Volumes/Preboot/Cryptexes/OS/private/var/folders/md/rsgk0w8d0_l2f3jq22czqwtr0000gn/T/pip-install-4f082vkr/prophet_1aacad5c411e4c38896265013ca67808/build/lib.macosx-12.3-arm64-cpython-38/prophet/stan_model/cmdstan-2.26.1/stan/lib/stan_math/lib/tbb/libtbb.dylib' (no such file), '/private/var/folders/md/rsgk0w8d0_l2f3jq22czqwtr0000gn/T/pip-install-4f082vkr/prophet_1aacad5c411e4c38896265013ca67808/build/lib.macosx-12.3-arm64-cpython-38/prophet/stan_model/cmdstan-2.26.1/stan/lib/stan_math/lib/tbb/libtbb.dylib' (no such file), '/System/Volumes/Preboot/Cryptexes/OS/private/var/folders/md/rsgk0w8d0_l2f3jq22czqwtr0000gn/T/pip-install-4f082vkr/prophet_1aacad5c411e4c38896265013ca67808/build/lib.macosx-12.3-arm64-cpython-38/prophet/stan_model/cmdstan-2.26.1/stan/lib/stan_math/lib/tbb/libtbb.dylib' (no such file), '/System/Volumes/Preboot/Cryptexes/OS@rpath/libtbb.dylib' (no such file), '/private/var/folders/md/rsgk0w8d0_l2f3jq22czqwtr0000gn/T/pip-install-4f082vkr/prophet_1aacad5c411e4c38896265013ca67808/build/lib.macosx-12.3-arm64-cpython-38/prophet/stan_model/cmdstan-2.26.1/stan/lib/stan_math/lib/tbb/libtbb.dylib' (no such file), '/System/Volumes/Preboot/Cryptexes/OS/private/var/folders/md/rsgk0w8d0_l2f3jq22czqwtr0000gn/T/pip-install-4f082vkr/prophet_1aacad5c411e4c38896265013ca67808/build/lib.macosx-12.3-arm64-cpython-38/prophet/stan_model/cmdstan-2.26.1/stan/lib/stan_math/lib/tbb/libtbb.dylib' (no such file), '/private/var/folders/md/rsgk0w8d0_l2f3jq22czqwtr0000gn/T/pip-install-4f082vkr/prophet_1aacad5c411e4c38896265013ca67808/build/lib.macosx-12.3-arm64-cpython-38/prophet/stan_model/cmdstan-2.26.1/stan/lib/stan_math/lib/tbb/libtbb.dylib' (no such file), '/System/Volumes/Preboot/Cryptexes/OS/private/var/folders/md/rsgk0w8d0_l2f3jq22czqwtr0000gn/T/pip-install-4f082vkr/prophet_1aacad5c411e4c38896265013ca67808/build/lib.macosx-12.3-arm64-cpython-38/prophet/stan_model/cmdstan-2.26.1/stan/lib/stan_math/lib/tbb/libtbb.dylib' (no such file), '/usr/local/lib/libtbb.dylib' (no such file), '/usr/lib/libtbb.dylib' (no such file, not in dyld cache)\n"
     ]
    }
   ],
   "source": [
    "from prophet import Prophet\n",
    "from prophet.plot import plot_plotly\n",
    "\n",
    "prophet = Prophet(daily_seasonality=True)\n",
    "prophet.fit(data)\n",
    "\n",
    "future_dates = prophet.make_future_dataframe(periods=365)\n",
    "predictions = prophet.predict(future_dates)\n",
    "\n",
    "\n",
    "plot_plotly(prophet, predictions)"
   ]
  }
 ],
 "metadata": {
  "kernelspec": {
   "display_name": "Python 3.8.13 64-bit ('3.8.13')",
   "language": "python",
   "name": "python3"
  },
  "language_info": {
   "codemirror_mode": {
    "name": "ipython",
    "version": 3
   },
   "file_extension": ".py",
   "mimetype": "text/x-python",
   "name": "python",
   "nbconvert_exporter": "python",
   "pygments_lexer": "ipython3",
   "version": "3.8.13"
  },
  "orig_nbformat": 4,
  "vscode": {
   "interpreter": {
    "hash": "4a9416fde9cb901ae10c49b7c365f273f6eb28dd9eb0169e2f8be061df5cebf6"
   }
  }
 },
 "nbformat": 4,
 "nbformat_minor": 2
}
